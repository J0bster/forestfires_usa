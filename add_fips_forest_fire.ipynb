{
 "cells": [
  {
   "cell_type": "markdown",
   "metadata": {},
   "source": [
    "This notebook is used to assign a FIPS(county code) to every forest fire row. "
   ]
  },
  {
   "cell_type": "code",
   "execution_count": null,
   "metadata": {},
   "outputs": [],
   "source": [
    "import numpy as np\n",
    "import matplotlib.pyplot as plt\n",
    "import pandas as pd\n",
    "\n",
    "df_drought = pd.read_csv('dataset\\drought_county_tx.csv')\n",
    "df_fires = pd.read_csv('dataset\\texas_fires.csv')"
   ]
  },
  {
   "cell_type": "code",
   "execution_count": null,
   "metadata": {},
   "outputs": [
    {
     "name": "stderr",
     "output_type": "stream",
     "text": [
      "100%|██████████| 142021/142021 [04:21<00:00, 542.73it/s]  \n"
     ]
    }
   ],
   "source": [
    "import requests\n",
    "from tqdm import tqdm\n",
    "\n",
    "def get_fips(lat, lon):\n",
    "    url = f'https://geo.fcc.gov/api/census/block/find?latitude={lat}&longitude={lon}&format=json'\n",
    "    response = requests.get(url)\n",
    "    data = response.json()\n",
    "    return data['County']['FIPS']\n",
    "\n",
    "\n",
    "fips = []\n",
    "csv_county_to_fips = {}\n",
    "\n",
    "for i in tqdm(range(len(df_fires))):\n",
    "    if df_fires[\"COUNTY\"][i] in csv_county_to_fips:\n",
    "        fips.append(csv_county_to_fips[df_fires[\"COUNTY\"][i]])\n",
    "    else:\n",
    "        fips.append(get_fips(df_fires[\"LATITUDE\"][i], df_fires[\"LONGITUDE\"][i]))\n",
    "        csv_county_to_fips[df_fires[\"COUNTY\"][i]] = fips[-1]\n",
    "\n",
    "df_fires['FIPS'] = fips\n",
    "# save the dataframe to a csv file\n",
    "df_fires.to_csv('dataset\\texas_fires_with_fips.csv', index=False)\n"
   ]
  }
 ],
 "metadata": {
  "kernelspec": {
   "display_name": "Python 3",
   "language": "python",
   "name": "python3"
  },
  "language_info": {
   "codemirror_mode": {
    "name": "ipython",
    "version": 3
   },
   "file_extension": ".py",
   "mimetype": "text/x-python",
   "name": "python",
   "nbconvert_exporter": "python",
   "pygments_lexer": "ipython3",
   "version": "3.8.10"
  }
 },
 "nbformat": 4,
 "nbformat_minor": 2
}
