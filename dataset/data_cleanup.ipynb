{
 "cells": [
  {
   "cell_type": "markdown",
   "metadata": {},
   "source": [
    "This notebook is to filter the forest fire dataset to only include the data we need."
   ]
  },
  {
   "cell_type": "code",
   "execution_count": null,
   "metadata": {},
   "outputs": [
    {
     "name": "stdout",
     "output_type": "stream",
     "text": [
      "CA    189550\n",
      "Name: STATE, dtype: int64\n"
     ]
    }
   ],
   "source": [
    "import pandas as pd\n",
    "import sqlite3\n",
    "\n",
    "# import sqlite file to pandas dataframe. Change the path to the sqlite file to your own path\n",
    "conn = sqlite3.connect('/home/mees/Desktop/forestfires_usa/dataset_gitignore/FPA_FOD_20170508.sqlite')\n",
    "\n",
    "df = pd.read_sql_query(\"SELECT * FROM Fires\", conn)\n",
    "# check which state has the most fires\n",
    "print(df['STATE'].value_counts().head(1))"
   ]
  },
  {
   "cell_type": "code",
   "execution_count": 5,
   "metadata": {},
   "outputs": [
    {
     "name": "stdout",
     "output_type": "stream",
     "text": [
      "STATE\n",
      "AK    2509.779198\n",
      "NV     531.720650\n",
      "ID     372.890482\n",
      "NM     170.234318\n",
      "WY     169.523555\n",
      "MT     154.034541\n",
      "WA     142.697410\n",
      "OR     137.716104\n",
      "UT     133.927628\n",
      "NE     121.334348\n",
      "KS     120.241601\n",
      "AZ      77.901837\n",
      "OK      74.758674\n",
      "TX      68.906840\n",
      "CA      67.242725\n",
      "CO      53.936502\n",
      "SD      50.733637\n",
      "FL      49.154653\n",
      "KY      37.465052\n",
      "DE      28.266959\n",
      "ND      27.143427\n",
      "MN      27.041154\n",
      "WV      26.249877\n",
      "MO      25.596042\n",
      "HI      25.544315\n",
      "LA      22.024586\n",
      "MD      18.575243\n",
      "IA      17.293654\n",
      "AR      16.072761\n",
      "VA      15.648139\n",
      "TN      15.620864\n",
      "MS      14.331488\n",
      "AL      13.828230\n",
      "MI      13.352641\n",
      "IL       9.801253\n",
      "GA       9.415452\n",
      "IN       8.256859\n",
      "OH       6.879521\n",
      "SC       6.661331\n",
      "NC       6.564892\n",
      "PA       6.282227\n",
      "PR       6.280894\n",
      "NJ       5.085496\n",
      "VT       3.413346\n",
      "WI       2.783192\n",
      "MA       2.332342\n",
      "CT       2.259508\n",
      "ME       1.867349\n",
      "NH       1.575044\n",
      "RI       1.171687\n",
      "NY       1.159540\n",
      "DC       0.492424\n",
      "Name: FIRE_SIZE, dtype: float64\n"
     ]
    }
   ],
   "source": [
    "# check the average fire_size per state and sort the values\n",
    "print(df.groupby('STATE')['FIRE_SIZE'].mean().sort_values(ascending=False))"
   ]
  },
  {
   "cell_type": "code",
   "execution_count": 4,
   "metadata": {},
   "outputs": [
    {
     "name": "stdout",
     "output_type": "stream",
     "text": [
      "142021\n"
     ]
    }
   ],
   "source": [
    "# filter for TX state\n",
    "df_texas = df[df['STATE'] == 'TX']\n",
    "# count rows\n",
    "print(df_texas.shape[0])"
   ]
  },
  {
   "cell_type": "code",
   "execution_count": null,
   "metadata": {},
   "outputs": [],
   "source": [
    "# columns to keep and save to csv\n",
    "columns = [\n",
    "    \"FOD_ID\",\n",
    "    \"FIRE_SIZE\",\n",
    "    \"FIRE_SIZE_CLASS\",\n",
    "    \"LATITUDE\",\n",
    "    \"LONGITUDE\",\n",
    "    \"FIRE_YEAR\",\n",
    "    \"DISCOVERY_DATE\",\n",
    "    \"DISCOVERY_DOY\",\n",
    "    \"DISCOVERY_TIME\",\n",
    "    \"COUNTY\",\n",
    "    \"STAT_CAUSE_DESCR\",\n",
    "    \"CONT_DATE\",\n",
    "    \"CONT_DOY\",\n",
    "    \"CONT_TIME\",\n",
    "]\n",
    "df_texas.to_csv(\"texas_fires.csv\", columns=columns, index=False)"
   ]
  }
 ],
 "metadata": {
  "kernelspec": {
   "display_name": "Python 3",
   "language": "python",
   "name": "python3"
  },
  "language_info": {
   "codemirror_mode": {
    "name": "ipython",
    "version": 3
   },
   "file_extension": ".py",
   "mimetype": "text/x-python",
   "name": "python",
   "nbconvert_exporter": "python",
   "pygments_lexer": "ipython3",
   "version": "3.8.10"
  }
 },
 "nbformat": 4,
 "nbformat_minor": 2
}
