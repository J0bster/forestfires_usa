{
 "cells": [
  {
   "cell_type": "markdown",
   "metadata": {},
   "source": [
    "This notebook is to filter the forest fire dataset to only include the data we need."
   ]
  },
  {
   "cell_type": "code",
   "execution_count": 8,
   "metadata": {},
   "outputs": [
    {
     "name": "stdout",
     "output_type": "stream",
     "text": [
      "CA    189550\n",
      "Name: STATE, dtype: int64\n"
     ]
    }
   ],
   "source": [
    "import pandas as pd\n",
    "import sqlite3\n",
    "\n",
    "# import sqlite file to pandas dataframe. Change the path to the sqlite file to your own path\n",
    "conn = sqlite3.connect('/home/mees/Desktop/forestfires_usa/dataset_gitignore/FPA_FOD_20170508.sqlite')\n",
    "\n",
    "df = pd.read_sql_query(\"SELECT * FROM Fires\", conn)\n",
    "# check which state has the most fires\n",
    "print(df['STATE'].value_counts().head(1))"
   ]
  },
  {
   "cell_type": "code",
   "execution_count": 9,
   "metadata": {},
   "outputs": [
    {
     "name": "stdout",
     "output_type": "stream",
     "text": [
      "STATE\n",
      "AK    2509.779198\n",
      "NV     531.720650\n",
      "ID     372.890482\n",
      "NM     170.234318\n",
      "WY     169.523555\n",
      "MT     154.034541\n",
      "WA     142.697410\n",
      "OR     137.716104\n",
      "UT     133.927628\n",
      "NE     121.334348\n",
      "KS     120.241601\n",
      "AZ      77.901837\n",
      "OK      74.758674\n",
      "TX      68.906840\n",
      "CA      67.242725\n",
      "CO      53.936502\n",
      "SD      50.733637\n",
      "FL      49.154653\n",
      "KY      37.465052\n",
      "DE      28.266959\n",
      "ND      27.143427\n",
      "MN      27.041154\n",
      "WV      26.249877\n",
      "MO      25.596042\n",
      "HI      25.544315\n",
      "LA      22.024586\n",
      "MD      18.575243\n",
      "IA      17.293654\n",
      "AR      16.072761\n",
      "VA      15.648139\n",
      "TN      15.620864\n",
      "MS      14.331488\n",
      "AL      13.828230\n",
      "MI      13.352641\n",
      "IL       9.801253\n",
      "GA       9.415452\n",
      "IN       8.256859\n",
      "OH       6.879521\n",
      "SC       6.661331\n",
      "NC       6.564892\n",
      "PA       6.282227\n",
      "PR       6.280894\n",
      "NJ       5.085496\n",
      "VT       3.413346\n",
      "WI       2.783192\n",
      "MA       2.332342\n",
      "CT       2.259508\n",
      "ME       1.867349\n",
      "NH       1.575044\n",
      "RI       1.171687\n",
      "NY       1.159540\n",
      "DC       0.492424\n",
      "Name: FIRE_SIZE, dtype: float64\n"
     ]
    }
   ],
   "source": [
    "# check the average fire_size per state and sort the values\n",
    "print(df.groupby('STATE')['FIRE_SIZE'].mean().sort_values(ascending=False))"
   ]
  },
  {
   "cell_type": "code",
   "execution_count": 10,
   "metadata": {},
   "outputs": [
    {
     "name": "stdout",
     "output_type": "stream",
     "text": [
      "142021\n"
     ]
    }
   ],
   "source": [
    "# filter for TX state\n",
    "df_texas = df[df['STATE'] == 'TX']\n",
    "# count rows\n",
    "print(df_texas.shape[0])"
   ]
  },
  {
   "cell_type": "code",
   "execution_count": null,
   "metadata": {},
   "outputs": [
    {
     "name": "stdout",
     "output_type": "stream",
     "text": [
      "            FOD_ID  FIRE_SIZE FIRE_SIZE_CLASS   LATITUDE  LONGITUDE  \\\n",
      "283            289       3.00               B  33.786111 -96.150000   \n",
      "284            290      55.00               C  31.312500 -94.270833   \n",
      "285            291       2.00               B  33.345833 -97.595833   \n",
      "286            292       0.30               B  31.386667 -95.150556   \n",
      "287            293      55.00               C  31.354167 -95.085278   \n",
      "...            ...        ...             ...        ...        ...   \n",
      "1856360  300289501      49.70               C  31.031333 -97.618000   \n",
      "1856399  300289541       1.00               B  32.846100 -94.967600   \n",
      "1856439  300289582       0.25               A  33.164283 -96.252667   \n",
      "1859961  300293785     250.00               D  33.054000 -94.708667   \n",
      "1859991  300293821    4856.00               F  29.616667 -94.273333   \n",
      "\n",
      "         FIRE_YEAR  DISCOVERY_DATE  DISCOVERY_DOY DISCOVERY_TIME  \\\n",
      "283           2005       2453394.5             24           1000   \n",
      "284           2005       2453395.5             25           1830   \n",
      "285           2005       2453441.5             71           0215   \n",
      "286           2005       2453463.5             93           1730   \n",
      "287           2005       2453467.5             97           1800   \n",
      "...            ...             ...            ...            ...   \n",
      "1856360       2015       2457314.5            292           None   \n",
      "1856399       2015       2457316.5            294           1948   \n",
      "1856439       2015       2457323.5            301           1150   \n",
      "1859961       2015       2457062.5             40           1645   \n",
      "1859991       2015       2457233.5            211           1645   \n",
      "\n",
      "                   COUNTY   STAT_CAUSE_DESCR  CONT_DATE  CONT_DOY CONT_TIME  \\\n",
      "283                  None              Arson  2453394.5      24.0      1500   \n",
      "284                  None     Debris Burning  2453395.5      25.0      2222   \n",
      "285                  None           Campfire  2453442.5      72.0      1800   \n",
      "286                  None            Smoking  2453463.5      93.0      1840   \n",
      "287                  None          Lightning  2453468.5      98.0      1550   \n",
      "...                   ...                ...        ...       ...       ...   \n",
      "1856360              Bell  Missing/Undefined  2457314.5     292.0      1820   \n",
      "1856399            Upshur  Missing/Undefined  2457316.5     294.0      2217   \n",
      "1856439              Hunt  Missing/Undefined  2457323.5     301.0      1255   \n",
      "1859961     Morris County  Missing/Undefined        NaN       NaN      None   \n",
      "1859991  Jefferson County          Lightning        NaN       NaN      None   \n",
      "\n",
      "        DISCOVERY_DATE_NEW  \n",
      "283             2005-01-24  \n",
      "284             2005-01-25  \n",
      "285             2005-03-12  \n",
      "286             2005-04-03  \n",
      "287             2005-04-07  \n",
      "...                    ...  \n",
      "1856360         2015-10-19  \n",
      "1856399         2015-10-21  \n",
      "1856439         2015-10-28  \n",
      "1859961         2015-02-09  \n",
      "1859991         2015-07-30  \n",
      "\n",
      "[142021 rows x 15 columns]\n"
     ]
    },
    {
     "name": "stderr",
     "output_type": "stream",
     "text": [
      "/tmp/ipykernel_60411/1188046491.py:19: SettingWithCopyWarning: \n",
      "A value is trying to be set on a copy of a slice from a DataFrame.\n",
      "Try using .loc[row_indexer,col_indexer] = value instead\n",
      "\n",
      "See the caveats in the documentation: https://pandas.pydata.org/pandas-docs/stable/user_guide/indexing.html#returning-a-view-versus-a-copy\n",
      "  df_texas['DISCOVERY_DATE_NEW'] = pd.to_datetime(df_texas['FIRE_YEAR']*1000 + df_texas['DISCOVERY_DOY'], format='%Y%j')\n"
     ]
    }
   ],
   "source": [
    "# columns to keep and save to csv\n",
    "columns = [\n",
    "    \"FOD_ID\",\n",
    "    \"FIRE_SIZE\",\n",
    "    \"FIRE_SIZE_CLASS\",\n",
    "    \"LATITUDE\",\n",
    "    \"LONGITUDE\",\n",
    "    \"FIRE_YEAR\",\n",
    "    \"DISCOVERY_DATE\",\n",
    "    \"DISCOVERY_DOY\",\n",
    "    \"DISCOVERY_TIME\",\n",
    "    \"COUNTY\",\n",
    "    \"STAT_CAUSE_DESCR\",\n",
    "    \"CONT_DATE\",\n",
    "    \"CONT_DOY\",\n",
    "    \"CONT_TIME\",\n",
    "]\n",
    "\n",
    "df_texas['DISCOVERY_DATE_NEW'] = pd.to_datetime(df_texas['FIRE_YEAR']*1000 + df_texas['DISCOVERY_DOY'], format='%Y%j')\n",
    "\n",
    "columns.append('DISCOVERY_DATE_NEW')\n",
    "print(df_texas[columns])"
   ]
  },
  {
   "cell_type": "code",
   "execution_count": 12,
   "metadata": {},
   "outputs": [],
   "source": [
    "\n",
    "df_texas.to_csv(\"texas_fires.csv\", columns=columns, index=False)"
   ]
  }
 ],
 "metadata": {
  "kernelspec": {
   "display_name": "Python 3",
   "language": "python",
   "name": "python3"
  },
  "language_info": {
   "codemirror_mode": {
    "name": "ipython",
    "version": 3
   },
   "file_extension": ".py",
   "mimetype": "text/x-python",
   "name": "python",
   "nbconvert_exporter": "python",
   "pygments_lexer": "ipython3",
   "version": "3.8.10"
  }
 },
 "nbformat": 4,
 "nbformat_minor": 2
}
