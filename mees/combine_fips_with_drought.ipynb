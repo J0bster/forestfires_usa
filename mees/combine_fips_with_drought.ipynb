{
 "cells": [
  {
   "cell_type": "code",
   "execution_count": 2,
   "metadata": {},
   "outputs": [],
   "source": [
    "# read the 2 files\n",
    "import numpy as np\n",
    "import matplotlib.pyplot as plt\n",
    "import pandas as pd\n",
    "import scipy as sp\n",
    "\n",
    "\n",
    "df_drought = pd.read_csv('/home/mees/Desktop/forestfires_usa/dataset/drought_county_tx.csv')\n",
    "df_fires = pd.read_csv('/home/mees/Desktop/forestfires_usa/dataset/texas_fires_with_fips.csv')"
   ]
  },
  {
   "cell_type": "code",
   "execution_count": null,
   "metadata": {},
   "outputs": [
    {
     "name": "stdout",
     "output_type": "stream",
     "text": [
      "First date:  2000-01-04 00:00:00\n",
      "Last date:  2015-12-31 00:00:00\n"
     ]
    },
    {
     "name": "stderr",
     "output_type": "stream",
     "text": [
      "  0%|          | 48/142021 [00:00<04:57, 476.70it/s]"
     ]
    },
    {
     "name": "stdout",
     "output_type": "stream",
     "text": [
      "Biggest date difference so far:  1 days 00:00:00\n",
      "Biggest date difference so far:  3 days 00:00:00\n"
     ]
    },
    {
     "name": "stderr",
     "output_type": "stream",
     "text": [
      "100%|██████████| 142021/142021 [03:58<00:00, 595.26it/s] \n"
     ]
    }
   ],
   "source": [
    "# combine the drought and fire data using the FIPS code as the key. Use the value with the closest date\n",
    "from tqdm import tqdm\n",
    "import datetime\n",
    "\n",
    "df_fires['DISCOVERY_DATE_NEW'] = pd.to_datetime(df_fires['DISCOVERY_DATE_NEW'])\n",
    "df_drought['MapDate'] = pd.to_datetime(df_drought['MapDate'], format='%Y%m%d')\n",
    "\n",
    "# to track the biggest date difference between all the combinations\n",
    "biggest_date_diff = datetime.timedelta(0)\n",
    "\n",
    "# calculate the min and max date difference between the fire and drought data\n",
    "first_date = max(df_fires['DISCOVERY_DATE_NEW'].min(), df_drought['MapDate'].min())\n",
    "last_date = min(df_fires['DISCOVERY_DATE_NEW'].max(), df_drought['MapDate'].max())\n",
    "print('First date: ', first_date)\n",
    "print('Last date: ', last_date)\n",
    "\n",
    "\n",
    "df_fires['DSCI'] = np.nan\n",
    "for i in tqdm(range(len(df_fires))):\n",
    "    fips = df_fires.loc[i, 'FIPS']\n",
    "    date = df_fires.loc[i, 'DISCOVERY_DATE_NEW']\n",
    "\n",
    "    if date < first_date or date > last_date:\n",
    "        continue\n",
    "\n",
    "    drought_data = df_drought[df_drought['FIPS'] == fips]\n",
    "    date_diff = abs(drought_data['MapDate'] - date)\n",
    "    min_date_diff = date_diff.min()\n",
    "    if min_date_diff > datetime.timedelta(weeks=10):\n",
    "        print('Error: date difference is more than 10 weeks for FIPS code: ', fips)\n",
    "    if min_date_diff > biggest_date_diff:\n",
    "        biggest_date_diff = min_date_diff\n",
    "        print('Biggest date difference so far: ', biggest_date_diff)\n",
    "\n",
    "    drought_data = drought_data[date_diff == min_date_diff]\n",
    "    if len(drought_data) == 1:\n",
    "        dsci = drought_data['DSCI'].values[0]\n",
    "        df_fires.loc[i, 'DSCI'] = dsci\n",
    "    else:\n",
    "        print('Error: multiple drought data found for FIPS code: ', fips)\n",
    "\n",
    "df_fires.to_csv('/home/mees/Desktop/forestfires_usa/dataset/texas_fires_drought.csv', index=False)\n"
   ]
  },
  {
   "cell_type": "code",
   "execution_count": 7,
   "metadata": {},
   "outputs": [
    {
     "name": "stdout",
     "output_type": "stream",
     "text": [
      "Number of rows with DSCI value:  129315\n"
     ]
    }
   ],
   "source": [
    "# filter out all the rows that have no DSCI value\n",
    "df_fires = df_fires.dropna(subset=['DSCI'])\n",
    "# count rows\n",
    "print('Number of rows with DSCI value: ', len(df_fires))\n",
    "df_fires.to_csv('/home/mees/Desktop/forestfires_usa/dataset/texas_fires_drought.csv', index=False)\n"
   ]
  }
 ],
 "metadata": {
  "kernelspec": {
   "display_name": "Python 3",
   "language": "python",
   "name": "python3"
  },
  "language_info": {
   "codemirror_mode": {
    "name": "ipython",
    "version": 3
   },
   "file_extension": ".py",
   "mimetype": "text/x-python",
   "name": "python",
   "nbconvert_exporter": "python",
   "pygments_lexer": "ipython3",
   "version": "3.8.10"
  }
 },
 "nbformat": 4,
 "nbformat_minor": 2
}
