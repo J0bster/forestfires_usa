{
 "cells": [
  {
   "cell_type": "markdown",
   "metadata": {},
   "source": [
    "Corrolate the values of drought by county in \n",
    "\n",
    "drought_county_tx.csv:\n",
    "    from https://droughtmonitor.unl.edu/DmData/DataDownload/DSCI.aspx\n",
    "\n",
    "    State = Always \"TX\"\n",
    "    County = County name\n",
    "    FIPS = Federal Information Processing Standards code that uniquely identifies counties within the USA\n",
    "    MapDate = Date of the drought data in format yyyymmdd\n",
    "    DSCI = Drought Severity and Coverage Index (DSCI) is a measure of drought intensity and spatial coverage.\n",
    "\n",
    "with \n",
    "\n",
    "texas_fires.csv\n",
    "    Original dataset used to create this subset:\n",
    "    https://www.kaggle.com/datasets/rtatman/188-million-us-wildfires?resource=download\n",
    "\n",
    "    Column discriptions:\n",
    "\n",
    "    FOD_ID = Global unique identifier.\n",
    "    FIRE_SIZE = Estimate of acres within the final perimeter of the fire.\n",
    "    FIRE_SIZE_CLASS = Code for fire size based on the number of acres within the final fire perimeter expenditures (A=greater than 0 but less than or equal to 0.25 acres, B=0.26-9.9 acres, C=10.0-99.9 acres, D=100-299 acres, E=300 to 999 acres, F=1000 to 4999 acres, and G=5000+ acres).\n",
    "    LATITUDE = Latitude (NAD83) for point location of the fire (decimal degrees).\n",
    "    LONGITUDE = Longitude (NAD83) for point location of the fire (decimal degrees).\n",
    "    FIRE_YEAR = Calendar year in which the fire was discovered or confirmed to exist.\n",
    "    DISCOVERY_DATE = Date on which the fire was discovered or confirmed to exist.\n",
    "    DISCOVERY_DOY = Day of year on which the fire was discovered or confirmed to exist.\n",
    "    DISCOVERY_TIME = Time of day that the fire was discovered or confirmed to exist.\n",
    "    County, or equivalent, in which the fire burned (or originated), based on nominal designation in the fire report.\n",
    "    STAT_CAUSE_DESCR = Description of the (statistical) cause of the fire.\n",
    "    CONT_DATE = Date on which the fire was declared contained or otherwise controlled (mm/dd/yyyy where mm=month, dd=day, and yyyy=year).\n",
    "    CONT_DOY = Day of year on which the fire was declared contained or otherwise controlled.\n",
    "    CONT_TIME = Time of day that the fire was declared contained or otherwise controlled (hhmm where hh=hour, mm=minutes).\n",
    "\n",
    "\n",
    "matching the longitude and latitude of the fires to the county of the drought data."
   ]
  },
  {
   "cell_type": "code",
   "execution_count": null,
   "metadata": {},
   "outputs": [],
   "source": [
    "import numpy as np\n",
    "import matplotlib.pyplot as plt\n",
    "import pandas as pd\n",
    "import scipy as sp\n",
    "\n",
    "\n",
    "df_drought = pd.read_csv('/home/mees/Desktop/forestfires_usa/dataset/drought_county_tx.csv')\n",
    "df_fires = pd.read_csv('/home/mees/Desktop/forestfires_usa/dataset/texas_fires.csv')"
   ]
  },
  {
   "cell_type": "code",
   "execution_count": null,
   "metadata": {},
   "outputs": [
    {
     "name": "stderr",
     "output_type": "stream",
     "text": [
      "100%|██████████| 142021/142021 [04:21<00:00, 542.73it/s]  \n"
     ]
    }
   ],
   "source": [
    "import requests\n",
    "from tqdm import tqdm\n",
    "\n",
    "def get_fips(lat, lon):\n",
    "    url = f'https://geo.fcc.gov/api/census/block/find?latitude={lat}&longitude={lon}&format=json'\n",
    "    response = requests.get(url)\n",
    "    data = response.json()\n",
    "    return data['County']['FIPS']\n",
    "\n",
    "\n",
    "fips = []\n",
    "csv_county_to_fips = {}\n",
    "\n",
    "for i in tqdm(range(len(df_fires))):\n",
    "    if df_fires[\"COUNTY\"][i] in csv_county_to_fips:\n",
    "        fips.append(csv_county_to_fips[df_fires[\"COUNTY\"][i]])\n",
    "    else:\n",
    "        fips.append(get_fips(df_fires[\"LATITUDE\"][i], df_fires[\"LONGITUDE\"][i]))\n",
    "        csv_county_to_fips[df_fires[\"COUNTY\"][i]] = fips[-1]\n",
    "\n",
    "df_fires['FIPS'] = fips\n",
    "# save the dataframe to a csv file\n",
    "df_fires.to_csv('/home/mees/Desktop/forestfires_usa/dataset/texas_fires_with_fips.csv', index=False)\n"
   ]
  }
 ],
 "metadata": {
  "kernelspec": {
   "display_name": "Python 3",
   "language": "python",
   "name": "python3"
  },
  "language_info": {
   "codemirror_mode": {
    "name": "ipython",
    "version": 3
   },
   "file_extension": ".py",
   "mimetype": "text/x-python",
   "name": "python",
   "nbconvert_exporter": "python",
   "pygments_lexer": "ipython3",
   "version": "3.8.10"
  }
 },
 "nbformat": 4,
 "nbformat_minor": 2
}
