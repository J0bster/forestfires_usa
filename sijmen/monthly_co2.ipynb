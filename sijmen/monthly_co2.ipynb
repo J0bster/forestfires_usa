{
 "cells": [
  {
   "cell_type": "markdown",
   "metadata": {},
   "source": [
    "realized that due to the yearly CO2 concentration-fluctuation, and the yearly summer winter cycle that we would prob not be able to find correct correlations while using yearly data, maybe we should normalise according to month. i will first test if the CO2 concentration is actually different each month. "
   ]
  },
  {
   "cell_type": "code",
   "execution_count": null,
   "metadata": {},
   "outputs": [],
   "source": [
    "import sys\n",
    "print(sys.executable) "
   ]
  },
  {
   "cell_type": "code",
   "execution_count": null,
   "metadata": {},
   "outputs": [],
   "source": [
    "import pandas as pd\n",
    "import numpy as np\n",
    "import matplotlib.pyplot as plt\n",
    "from scipy import stats\n",
    "from scipy.stats import linregress\n",
    "import os"
   ]
  },
  {
   "cell_type": "code",
   "execution_count": null,
   "metadata": {},
   "outputs": [],
   "source": [
    "os.chdir(\"..\")\n",
    "os.chdir(\"dataset\")\n",
    "df = pd.read_csv(\"texas_fires.csv\")"
   ]
  },
  {
   "cell_type": "code",
   "execution_count": null,
   "metadata": {},
   "outputs": [],
   "source": [
    "print(df.columns)\n",
    "print(df[\"DISCOVERY_DATE\"])"
   ]
  },
  {
   "cell_type": "code",
   "execution_count": null,
   "metadata": {},
   "outputs": [
    {
     "data": {
      "text/plain": [
       "Traceback (most recent call last):\n",
       "  File \"c:\\Users\\sijme\\.vscode\\extensions\\ms-python.python-2024.20.0-win32-x64\\python_files\\python_server.py\", line 130, in exec_user_input\n",
       "    retval = callable_(user_input, user_globals)\n",
       "             ^^^^^^^^^^^^^^^^^^^^^^^^^^^^^^^^^^^\n",
       "  File \"<string>\", line 34\n",
       "    plt.title(\"plot of mean co2 level per month)\n",
       "              ^\n",
       "SyntaxError: unterminated string literal (detected at line 34)\n",
       "\n"
      ]
     },
     "metadata": {},
     "output_type": "display_data"
    }
   ],
   "source": [
    "os.chdir(\"..\")\n",
    "os.chdir(\"dataset_gitignore\")\n",
    "co2 = \"CO2_data_raw.txt\"\n",
    "\n",
    "co2_df = pd.read_csv(co2, header= 148, sep = \" \") # header lines given in original txt file\n",
    "plt.scatter(co2_df[\"event_number\"], co2_df[\"value\"])\n",
    "plt.title(\"plot of raw data with extreme outlyers\")\n",
    "plt.show()  # raw data\n",
    "\n",
    "\n",
    "slope, intercept, _, _, _ = linregress(co2_df[\"event_number\"], co2_df[\"value\"]) # getting linear regresion data of uncleaned datafile\n",
    "trend = slope * co2_df[\"event_number\"] + intercept\n",
    "detrended_data = co2_df[\"value\"] - trend # getting co2 data withoud upward trend\n",
    "detrended_data_clean = detrended_data[(np.abs(stats.zscore(detrended_data)) < 0.2)] # removing outlyers from detrended data\n",
    "\n",
    "\n",
    "#creating new df with the detreded data and cleaned data to regain the order of the original data within the cleaned data\n",
    "new_df = pd.concat([detrended_data, detrended_data_clean], axis = 1) \n",
    "\n",
    "#plotting raw data without outlyers\n",
    "new_df.rename(columns = {0 : \"old\", 1 : \"new\"}, inplace = True)#renaming columns\n",
    "plt.plot(new_df.index, new_df[\"new\"])\n",
    "plt.title(\"plot of data without outlyers and without upward trend\")\n",
    "plt.show()\n",
    "\n",
    "#plotting per month mean of original data without outlyers and with original trend\n",
    "cleaned_data = detrended_data_clean + trend # replotting new plot without outlyers\n",
    "co2_df[\"co2_correct\"] = pd.concat([cleaned_data], axis = 1)#concat the new list without the outlyers\n",
    "mean_df = pd.DataFrame  \n",
    "mean_df= co2_df.groupby([\"year\", \"month\" ])[\"co2_correct\"].mean() #calc mean per year and month\n",
    "x_labels = mean_df.index.map(lambda x: f\"{x[0]}-{x[1]}\") #creating x labels for plot\n",
    "plt.plot(x_labels, mean_df)\n",
    "plt.title(\"plot of mean co2 level per month from 2006 to 2022\")\n",
    "plt.show()\n",
    "\n",
    "#saving as csv\n",
    "os.chdir(\"..\")\n",
    "os.chdir(\"sijmen\")\n",
    "mean_df.to_csv('meanCO2_values.csv', index=True) "
   ]
  },
  {
   "cell_type": "code",
   "execution_count": null,
   "metadata": {},
   "outputs": [
    {
     "data": {
      "text/plain": [
       "Index(['site_code', 'year', 'month', 'day', 'hour', 'minute', 'second',\n",
       "       'datetime', 'time_decimal', 'air_sample_container_id', 'value',\n",
       "       'value_unc', 'latitude', 'longitude', 'altitude', 'elevation',\n",
       "       'intake_height', 'method', 'event_number', 'instrument',\n",
       "       'analysis_datetime', 'qcflag'],\n",
       "      dtype='object')\n",
       "0       2006\n",
       "1       2006\n",
       "2       2006\n",
       "3       2006\n",
       "4       2006\n",
       "        ... \n",
       "4133    2022\n",
       "4134    2022\n",
       "4135    2022\n",
       "4136    2022\n",
       "4137    2022\n",
       "Name: year, Length: 4138, dtype: int64\n",
       "{2006: np.int64(182), 2007: np.int64(368), 2008: np.int64(447), 2009: np.int64(443), 2010: np.int64(438), 2011: np.int64(308), 2012: np.int64(210), 2013: np.int64(214), 2014: np.int64(220), 2015: np.int64(170), 2016: np.int64(107), 2017: np.int64(175), 2018: np.int64(167), 2019: np.int64(153), 2020: np.int64(184), 2021: np.int64(170), 2022: np.int64(182)}\n"
      ]
     },
     "metadata": {},
     "output_type": "display_data"
    }
   ],
   "source": [
    "print(co2_df.columns)\n",
    "print(co2_df[\"year\"])\n",
    "dict = {}\n",
    "for i in range(2006, 2023):\n",
    "    dict[i] = co2_df['year'].value_counts().get(i, 0)\n",
    "\n",
    "print(dict)"
   ]
  },
  {
   "cell_type": "code",
   "execution_count": null,
   "metadata": {},
   "outputs": [],
   "source": []
  }
 ],
 "metadata": {
  "language_info": {
   "name": "python"
  }
 },
 "nbformat": 4,
 "nbformat_minor": 2
}
